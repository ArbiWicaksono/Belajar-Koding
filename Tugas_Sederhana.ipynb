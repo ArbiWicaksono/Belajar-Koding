{
  "nbformat": 4,
  "nbformat_minor": 0,
  "metadata": {
    "colab": {
      "provenance": [],
      "authorship_tag": "ABX9TyMIqTlZmxEwd2uXVz0x2Whf",
      "include_colab_link": true
    },
    "kernelspec": {
      "name": "python3",
      "display_name": "Python 3"
    },
    "language_info": {
      "name": "python"
    }
  },
  "cells": [
    {
      "cell_type": "markdown",
      "metadata": {
        "id": "view-in-github",
        "colab_type": "text"
      },
      "source": [
        "<a href=\"https://colab.research.google.com/github/ArbiWicaksono/Belajar-Koding/blob/main/Tugas_Sederhana.ipynb\" target=\"_parent\"><img src=\"https://colab.research.google.com/assets/colab-badge.svg\" alt=\"Open In Colab\"/></a>"
      ]
    },
    {
      "cell_type": "code",
      "source": [
        "import numpy as np\n",
        "import matplotlib.pyplot as plt"
      ],
      "metadata": {
        "id": "ho7FuAFF0yHS"
      },
      "execution_count": 5,
      "outputs": []
    },
    {
      "cell_type": "code",
      "execution_count": null,
      "metadata": {
        "id": "a2wrBzxW0vsR"
      },
      "outputs": [],
      "source": [
        "x = 0.0\n",
        "x_max = 20.0\n",
        "\n",
        "\n",
        "print(\"x       y1 (2x)        y2 (sin(x))\")\n",
        "print(\"-----------------------------------\")\n",
        "\n",
        "while x <= x_max:\n",
        "    if x <= 10:\n",
        "        y1 = 2 * x\n",
        "        print(\"{0:.1f}     {1:.3f}    -\".format(x, y1))\n",
        "    else:\n",
        "        y2 = np.sin(x)\n",
        "        print(\"{0:.1f}     -         {1:.3f}\".format(x, y2))\n",
        "    x += 0.1"
      ]
    },
    {
      "cell_type": "code",
      "source": [
        "#Inisialisasi List Kosong\n",
        "x_values_y1 = []\n",
        "y1_values = []\n",
        "x_values_y2 = []\n",
        "y2_values = []\n",
        "\n",
        "#Loop While\n",
        "x = 0.0\n",
        "x_max= 20.0\n",
        "\n",
        "while x <= x_max:\n",
        "  if x <= 10:\n",
        "    x_values_y1.append(x)\n",
        "    y1_values.append(2*x)\n",
        "  else:\n",
        "    x_values_y2.append(x)\n",
        "    y2_values.append(np.sin(x))\n",
        "\n",
        "  x += 0.1\n",
        "\n",
        "#Plotting\n",
        "plt.figure(figsize=(10, 5))\n",
        "plt.plot(x_values_y1, y1_values, label=\"y1 = 2x (x ≤ 10)\", color='blue')\n",
        "plt.plot(x_values_y2, y2_values, label=\"y2 = sin(x) (x > 10)\", color='green')\n",
        "\n",
        "plt.title(\"Grafik y1 = 2x dan y2 = sin(x)\")\n",
        "plt.xlabel(\"x\")\n",
        "plt.ylabel(\"y\")\n",
        "plt.grid(True)\n",
        "plt.legend()\n",
        "plt.tight_layout()\n",
        "plt.show()"
      ],
      "metadata": {
        "id": "WiTszL3z06qf"
      },
      "execution_count": null,
      "outputs": []
    },
    {
      "cell_type": "markdown",
      "source": [
        "#**Tugas 1 : Fungsi Campuran Linear dan Kuadrat**\n",
        "##**Deskripsi** :\n",
        "Buat program yang mencetak nilai fungsi $f(x)$ dengan :\n",
        "\n",
        "*   $f(x) = 2x$ untuk $x \\leq 5$\n",
        "*   $f(x) = x^2$ untuk $5 < x \\leq 10$\n",
        "\n",
        "##**Instruksi**\n",
        "- Gunakan **while loop** dengan increment **0.5**\n",
        "- Simpan semua hasil dalam list\n",
        "- Format hasil output ke 2 desimal\n",
        "- Cetak nilai ***x*** dan f(x) pada setiap iterasi\n",
        "\n"
      ],
      "metadata": {
        "id": "evEimxxxTgqH"
      }
    },
    {
      "cell_type": "code",
      "source": [
        "x = 0.0\n",
        "x_max = 10.0\n",
        "\n",
        "\n",
        "print(\"x       y1 (2x)        y2 (x**2)\")\n",
        "print(\"-----------------------------------\")\n",
        "\n",
        "while x <= x_max:\n",
        "    if x <= 5:\n",
        "        y1 = 2 * x\n",
        "        print(\"{0:.1f}     {1:.3f}               -\".format(x, y1))\n",
        "    else:\n",
        "        y2 = 2**x\n",
        "        print(\"{0:.1f}     -                {1:.3f}\".format(x, y2))\n",
        "    x = round (x+0.5, 1)"
      ],
      "metadata": {
        "id": "wKvQpVCg072m"
      },
      "execution_count": null,
      "outputs": []
    },
    {
      "cell_type": "markdown",
      "source": [
        "#**Tugas 2 : Deteksi Bilangan Ganjil dan Genap**\n",
        "##**Deskripsi** :\n",
        "Buat program dengan **for loop** untuk angka 1 sampai 20 :\n",
        "* Jika angka ganjil ➡ tambahkan ke list **ganjil**\n",
        "* Jika angka genap ➡ tambahkan ke list **genap**\n",
        "\n",
        "##**Instruksi**\n",
        "- Cetak list **ganjil [0:5]** dan **genap [0:5]**\n",
        "- Gunakan format output : **Angka : *x*  (Ganjil)** atau **Angka : *x* (Genap)**\n",
        "\n"
      ],
      "metadata": {
        "id": "R3lE5wCIVs7-"
      }
    },
    {
      "cell_type": "code",
      "source": [
        "list_genap = []\n",
        "list_ganjil = []\n",
        "\n",
        "for x in range(20):\n",
        "  if x%2==0:            # % adalah operasi modulus atau sisa pembagian %2 == 0 berarti\n",
        "    list_genap.append(x)\n",
        "  else:\n",
        "    list_ganjil.append(x)\n",
        "\n",
        "\n",
        "list_ganjil[0:10]"
      ],
      "metadata": {
        "colab": {
          "base_uri": "https://localhost:8080/"
        },
        "id": "6GxuCKEzBCjC",
        "outputId": "5c786a4e-f440-4d8d-b2b6-ccc92720c5d1"
      },
      "execution_count": 13,
      "outputs": [
        {
          "output_type": "execute_result",
          "data": {
            "text/plain": [
              "[1, 3, 5, 7, 9, 11, 13, 15, 17, 19]"
            ]
          },
          "metadata": {},
          "execution_count": 13
        }
      ]
    },
    {
      "cell_type": "markdown",
      "source": [
        "#**Tugas 3 : Grafik Tangga Cosinus**\n",
        "##**Deskripsi :**\n",
        "\n",
        "Hitung dan simpan nilai $f(x) = \\cos(x)$ untuk $x$ dari 0 sampai 10 dengan step 0.1\n",
        "\n",
        "##**Instruksi:**\n",
        "\n",
        "- Gunakan while atau for loop\n",
        "- Jika $f(x) > 0.5$ ➡ cetak \"Tinggi\"\n",
        "- Jika $-0.5 \\leq f(x) \\leq 0.5$ ➡ cetak \"Sedang\"\n",
        "- Jika $f(x) < -0.5$ ➡ cetak \"Rendah\"\n",
        "- Simpan hasil x dan f(x) dalam list terpisah\n",
        "\n"
      ],
      "metadata": {
        "id": "k1wB0uYXXBJt"
      }
    },
    {
      "cell_type": "code",
      "source": [
        "#Inisialisasi\n",
        "x = 0\n",
        "x_max = 10\n",
        "\n",
        "list_x = []\n",
        "list_y = []\n",
        "\n",
        "while x <= x_max:\n",
        "  y = np.cos(x)\n",
        "  list_x.append(round(x,2))\n",
        "  list_y.append(round(y,2))\n",
        "\n",
        "\n",
        "  if y > 0.5:\n",
        "    kategori = \"Tinggi\"\n",
        "  elif y >= -0.5:\n",
        "    kategori = \"Sedang\"\n",
        "  else:\n",
        "    kategori = \"Rendah\"\n",
        "\n",
        "#Print\n",
        "  print(\"x = {0:.2f}, y = {1:.2f}, Kategori = {2}\".format(x, y, kategori))\n",
        "\n",
        "  x = round(x+0.1, 1)\n"
      ],
      "metadata": {
        "id": "zJuHtfm3QmEF"
      },
      "execution_count": null,
      "outputs": []
    },
    {
      "cell_type": "markdown",
      "source": [
        "#**Tugas 4: Format dan Hitung Energi Gas Ideal**\n",
        "##**Deskripsi:**\n",
        "Hitung energi kinetik gas ideal dengan rumus :\n",
        "$E = \\frac{3}{2}RT$\n",
        "\n",
        "##**Instruksi:**\n",
        "- Gunakan for loop dengan suhu dari 100K sampai 1000K (step 100)\n",
        "- Tetapkan konstanta $R = 8.314$\n",
        "- Simpan nilai energi ke dalam list energi\n",
        "- Format output: 4 angka di belakang koma, contoh: Energi = 1234.5678\n",
        "\n"
      ],
      "metadata": {
        "id": "bzmG-_fCS7pQ"
      }
    },
    {
      "cell_type": "code",
      "source": [
        "energi = []\n",
        "R = 8.314\n",
        "\n",
        "for T in range (100, 1001,100):\n",
        "  E = (3/2)*R*T\n",
        "  energi.append(round(E,4))\n",
        "  print(\"T = {0:0f} K, Energi = {1:4f} J\".format(T,E))\n",
        "\n",
        "\n",
        "\n"
      ],
      "metadata": {
        "colab": {
          "base_uri": "https://localhost:8080/"
        },
        "id": "3hSJcM2FPf9y",
        "outputId": "0c5a1ba5-e58f-4baf-d7d5-9f73168e064a"
      },
      "execution_count": 22,
      "outputs": [
        {
          "output_type": "stream",
          "name": "stdout",
          "text": [
            "T = 100.000000 K, Energi = 1247.100000 J\n",
            "T = 200.000000 K, Energi = 2494.200000 J\n",
            "T = 300.000000 K, Energi = 3741.300000 J\n",
            "T = 400.000000 K, Energi = 4988.400000 J\n",
            "T = 500.000000 K, Energi = 6235.500000 J\n",
            "T = 600.000000 K, Energi = 7482.600000 J\n",
            "T = 700.000000 K, Energi = 8729.700000 J\n",
            "T = 800.000000 K, Energi = 9976.800000 J\n",
            "T = 900.000000 K, Energi = 11223.900000 J\n",
            "T = 1000.000000 K, Energi = 12471.000000 J\n"
          ]
        }
      ]
    }
  ]
}